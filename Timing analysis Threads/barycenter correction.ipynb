{
 "cells": [
  {
   "cell_type": "markdown",
   "metadata": {},
   "source": [
    " When you are done installing CIAO import the following package to get started. \n",
    " \n",
    "Also it is recommended to install astropy in the same conda environment because sometimes astropy will help you to check the header of the given fits files"
   ]
  },
  {
   "cell_type": "code",
   "execution_count": null,
   "metadata": {},
   "outputs": [],
   "source": [
    "import ciao_contrib.runtool as rt\n",
    "from astropy.io import fits"
   ]
  },
  {
   "cell_type": "code",
   "execution_count": null,
   "metadata": {},
   "outputs": [],
   "source": [
    "#Load the event file onto which bary center correction is to be applied\n",
    "event_filename = '<event file name>'\n",
    "\n",
    "#Use astropy to to get the RA and DEC \n",
    "#You can also use something else to view the header and get RA and DEC\n",
    "events_list = fits.open(event_filename)[1]\n",
    "ra = events_list.header['RA_PNT']\n",
    "dec = events_list.header['DEC_PNT']"
   ]
  },
  {
   "cell_type": "markdown",
   "metadata": {},
   "source": [
    "### Barycenter correction on the evt2 file"
   ]
  },
  {
   "cell_type": "code",
   "execution_count": null,
   "metadata": {},
   "outputs": [],
   "source": [
    "# For bary center correction we need to use axbary task\n",
    "# Setting up the parameters of axbary\n",
    "rt.axbary.punlearn()\n",
    "rt.axbary.infile = event_filename\n",
    "rt.axbary.orbitfile = '<orbit file name>'\n",
    "outfile_name = f'bary_{event_filename}' # this naming convention I use. you can put name of your choice \n",
    "rt.axbary.outfile = outfile_name \n",
    "rt.axbary.ra = ra #got from the header\n",
    "rt.axbary.dec = dec #got from the header\n",
    "rt.axbary.clobber = 'yes' #by default it is 'no'; 'yes' means if a file with the outfile name already exists it will overwrite\n",
    "\n",
    "#Checking the parameters after all set\n",
    "print(rt.axbary)"
   ]
  },
  {
   "cell_type": "code",
   "execution_count": null,
   "metadata": {},
   "outputs": [],
   "source": [
    "#Running the task\n",
    "rt.axbary()"
   ]
  },
  {
   "cell_type": "markdown",
   "metadata": {},
   "source": [
    "### Doing same thing with asolfile (only infile, outfile will be changed)"
   ]
  },
  {
   "cell_type": "markdown",
   "metadata": {},
   "source": [
    "Bary center correction is already done to the evt2 file. But sometimes it is needed to have the aspect solution file (for example while extracting speectrum). In those cases aspect solution file also should be applied the correction. "
   ]
  },
  {
   "cell_type": "code",
   "execution_count": null,
   "metadata": {},
   "outputs": [],
   "source": [
    "#changing some of the parameters of axbary\n",
    "input_asol_file = input('Enter the input asol file')\n",
    "rt.axbary.infile = input_asol_file\n",
    "rt.axbary.outfile = f'bary_{input_asol_file}'  # this naming convention I use. you can put name of your choice \n",
    "\n",
    "# Checking the parameters after necessary changes (notice rest of the parameters are kept as it is)\n",
    "print(rt.axbary)    "
   ]
  },
  {
   "cell_type": "code",
   "execution_count": null,
   "metadata": {},
   "outputs": [],
   "source": [
    "#running the task\n",
    "rt.axbary()"
   ]
  },
  {
   "cell_type": "markdown",
   "metadata": {},
   "source": [
    "Now that we have both bary centere corrected event file and aspect solution file, in the header of event file I need to mention which aspect solution file to be used when it is needed (for example while spectrum extraction). By default the 'not corrected' aspect solution file would be there, which I need to replace by 'corrected' aspect solution file. \n",
    "\n",
    "The key word in the header is \"ASOLFILE\" \n",
    "\n",
    "The task we need is 'dmhedit'"
   ]
  },
  {
   "cell_type": "markdown",
   "metadata": {},
   "source": [
    "### Changing the header keyword of the Bary center corrected evt2 file"
   ]
  },
  {
   "cell_type": "code",
   "execution_count": null,
   "metadata": {},
   "outputs": [],
   "source": [
    "#Setting the parameters of the dmhedit task\n",
    "rt.dmhedit.infile = outfile_name #The variable which contains the bary center corrected event file (outfile of axbary for the first task)\n",
    "rt.dmhedit.operation = 'add'\n",
    "rt.dmhedit.key = 'ASOLFILE'\n",
    "rt.dmhedit.value = rt.axbary.outfile #The outfile of the axbary for the second (last) task, which is the corrected aspect solution file\n",
    "\n",
    "#Checking the parameters of the task after all set\n",
    "print(rt.dmhedit)"
   ]
  },
  {
   "cell_type": "code",
   "execution_count": null,
   "metadata": {},
   "outputs": [],
   "source": [
    "# Running the task\n",
    "rt.dmhedit()"
   ]
  },
  {
   "cell_type": "markdown",
   "metadata": {},
   "source": [
    "\n",
    "                                             Now you are done with bary center correction"
   ]
  }
 ],
 "metadata": {
  "kernelspec": {
   "display_name": "Python 3.9.12 ('base')",
   "language": "python",
   "name": "python3"
  },
  "language_info": {
   "codemirror_mode": {
    "name": "ipython",
    "version": 3
   },
   "file_extension": ".py",
   "mimetype": "text/x-python",
   "name": "python",
   "nbconvert_exporter": "python",
   "pygments_lexer": "ipython3",
   "version": "3.9.12"
  },
  "orig_nbformat": 4,
  "vscode": {
   "interpreter": {
    "hash": "5da5aceac02c15ea9a1ab6e8f209dba080c06c2343707823140f6f6e7eb19a73"
   }
  }
 },
 "nbformat": 4,
 "nbformat_minor": 2
}
